{
  "cells": [
    {
      "cell_type": "markdown",
      "metadata": {
        "id": "_kX74ytuOfgy"
      },
      "source": [
        "# Домашнее задание \"Линейная алгебра. Матрицы\"."
      ]
    },
    {
      "cell_type": "markdown",
      "metadata": {
        "id": "t69IZulqTZMz"
      },
      "source": [
        "## Уровень 0:\n"
      ]
    },
    {
      "cell_type": "markdown",
      "metadata": {
        "id": "9JUikPzroAL8"
      },
      "source": [
        "### Задание 1"
      ]
    },
    {
      "cell_type": "markdown",
      "metadata": {
        "id": "ya8BlSO5nQ9a"
      },
      "source": [
        " - Создайте матрицу 3 на 3, заполненную числами от 1 до 9\n",
        " - Прибавьте к ней матрицу с единицами на диагонале\n",
        " - Умножьте полученную матрицу на вектор (1, 2, 3)\n",
        " - Вычислить транспонированную матрицу $A^T$ от полученной в результате прибавления матрицы\n",
        " - Посчитайте обратную матрицу к полученной в результате прибавления матрице\n"
      ]
    },
    {
      "cell_type": "code",
      "execution_count": 1,
      "metadata": {},
      "outputs": [],
      "source": [
        "# импорт библиотек\n",
        "import numpy as np"
      ]
    },
    {
      "cell_type": "code",
      "execution_count": 55,
      "metadata": {
        "id": "hZ34229YdNlq"
      },
      "outputs": [
        {
          "name": "stdout",
          "output_type": "stream",
          "text": [
            "A_sum:\n",
            "[[ 2.  2.  3.]\n",
            " [ 4.  6.  6.]\n",
            " [ 7.  8. 10.]]\n",
            "A_mul:\n",
            "[15. 34. 53.]\n",
            "A_t:\n",
            "[[ 2.  4.  7.]\n",
            " [ 2.  6.  8.]\n",
            " [ 3.  6. 10.]]\n",
            "A_inv:\n",
            "[[-6.  -1.   5. ]\n",
            " [-2.   0.5  1. ]\n",
            " [ 3.   0.  -2. ]]\n"
          ]
        }
      ],
      "source": [
        "### YOUR CODE HERE\n",
        "A_phone = np.array([[1,2,3], [4,5,6], [7,8,9]]) # создаю матрицу 3*3\n",
        "A_one = np.eye(3) # создаю единичную матрицу\n",
        "V = np.array([1,2,3])\n",
        "A_sum = A_one + A_phone # складываю матрицы\n",
        "A_mul = A_sum@V # умножаю матрицу на вектор\n",
        "A_t = np.transpose(A_sum)\n",
        "A_t # транспонирую матрицу\n",
        "A_inv = np.linalg.inv(A_t) # вычисляю матрицу, обратную транспонированной\n",
        "print(f\"A_sum:\\n{A_sum}\\nA_mul:\\n{A_mul}\\nA_t:\\n{A_t}\\nA_inv:\\n{A_inv}\") #вывожу пезультаты"
      ]
    },
    {
      "cell_type": "markdown",
      "metadata": {
        "id": "qZxS_tEVTapE"
      },
      "source": [
        "## Уровень 1:"
      ]
    },
    {
      "cell_type": "markdown",
      "metadata": {
        "id": "gUB5Tx31oDZB"
      },
      "source": [
        "### Задание 2"
      ]
    },
    {
      "cell_type": "markdown",
      "metadata": {
        "id": "Jh-pEPj-TcDQ"
      },
      "source": [
        "Найдите собственные значения и собственные вектора матрицы:\n",
        "```\n",
        "m = np.array([[2, 2],\n",
        "              [1, 3]])\n",
        "print(m)\n",
        "```\n",
        "\n"
      ]
    },
    {
      "cell_type": "code",
      "execution_count": 59,
      "metadata": {
        "id": "1OeJWLrpobqU"
      },
      "outputs": [
        {
          "data": {
            "text/plain": [
              "(array([1., 4.]),\n",
              " array([[-0.89442719, -0.70710678],\n",
              "        [ 0.4472136 , -0.70710678]]))"
            ]
          },
          "execution_count": 59,
          "metadata": {},
          "output_type": "execute_result"
        }
      ],
      "source": [
        "### YOUR CODE HERE\n",
        "m = np.array([[2, 2],[1, 3]])\n",
        "res = np.linalg.eig(m)\n",
        "res"
      ]
    },
    {
      "cell_type": "markdown",
      "metadata": {
        "id": "Tj14Nn3NOp8s"
      },
      "source": [
        "### Задание 3\n"
      ]
    },
    {
      "cell_type": "markdown",
      "metadata": {
        "id": "JMjSYrp4OrpG"
      },
      "source": [
        "Придумайте матрицу, у которой определитель = 1, и все элементы не равны 0.\n",
        "\n",
        "P.S. Матрица должна быть ненулевой и размерностью не менее 2! "
      ]
    },
    {
      "cell_type": "code",
      "execution_count": null,
      "metadata": {
        "id": "hRov-LJgOrz0"
      },
      "outputs": [],
      "source": [
        "### YOUR CODE HERE\n",
        "det = 0\n",
        "while det !=1:\n",
        "    a = np.random.randint(-10,10,(3,3))\n",
        "    det = np.linalg.det(a)\n",
        "print(a)"
      ]
    }
  ],
  "metadata": {
    "colab": {
      "collapsed_sections": [],
      "name": "HW_2_upd",
      "provenance": []
    },
    "kernelspec": {
      "display_name": "Python 3",
      "language": "python",
      "name": "python3"
    },
    "language_info": {
      "codemirror_mode": {
        "name": "ipython",
        "version": 3
      },
      "file_extension": ".py",
      "mimetype": "text/x-python",
      "name": "python",
      "nbconvert_exporter": "python",
      "pygments_lexer": "ipython3",
      "version": "3.10.6"
    },
    "vscode": {
      "interpreter": {
        "hash": "916dbcbb3f70747c44a77c7bcd40155683ae19c65e1c03b4aa3499c5328201f1"
      }
    }
  },
  "nbformat": 4,
  "nbformat_minor": 0
}
