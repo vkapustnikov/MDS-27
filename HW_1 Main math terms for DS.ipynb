{
  "cells": [
    {
      "cell_type": "markdown",
      "metadata": {
        "id": "_kX74ytuOfgy"
      },
      "source": [
        "# Домашнее задание \"Основные математические понятия\"."
      ]
    },
    {
      "cell_type": "markdown",
      "metadata": {
        "id": "nW5C45enfdcu"
      },
      "source": []
    },
    {
      "cell_type": "markdown",
      "metadata": {
        "id": "t69IZulqTZMz"
      },
      "source": [
        "## Уровень 0:\n"
      ]
    },
    {
      "cell_type": "markdown",
      "metadata": {
        "id": "rzDIWhwiKxdO"
      },
      "source": [
        "Представим фильмы в виде бинарных векторов (numpy array) используя следующие признаки:\n",
        "\n",
        "[Комедия, Боевик, Исторический, Бред Питт, Бенедикт Камбербэтч, Квентин Тарантино]\n",
        "\n",
        "[Игра в имитацию](https://www.kinopoisk.ru/film/635772/)\n",
        "\n",
        "[Ярость](https://www.kinopoisk.ru/film/740644/)\n",
        "\n",
        "[12 лет рабства](https://www.kinopoisk.ru/film/606646/)\n",
        "\n",
        "[Однажды в Голливуде](https://www.kinopoisk.ru/film/1047883/)\n",
        "\n",
        "```\n",
        "film_1 = np.array([0,0,0,0,1,0])      # Игра в имитацию\n",
        "\n",
        "film_2 = np.array([0,1,0,1,0,0])      # Ярость\n",
        "\n",
        "film_3 = np.array([0,0,1,1,1,0])      # 12 лет рабства\n",
        "\n",
        "film_4 = np.array([1,0,0,1,0,1])      # Однажды в Голливуде\n",
        "```\n",
        "\n"
      ]
    },
    {
      "cell_type": "code",
      "execution_count": 2,
      "metadata": {},
      "outputs": [],
      "source": [
        "# импорт библиотек\n",
        "import numpy as np\n",
        "import sympy as sym"
      ]
    },
    {
      "cell_type": "code",
      "execution_count": 3,
      "metadata": {
        "id": "eawtOZO0few8"
      },
      "outputs": [],
      "source": [
        "### YOUR CODE HERE\n",
        "imitation = np.array([0,0,0,0,1,0])      # Игра в имитацию\n",
        "fury = np.array([0,1,0,1,0,0])           # Ярость\n",
        "slavery = np.array([0,0,1,1,1,0])        # 12 лет рабства\n",
        "hollywood = np.array([1,0,0,1,0,1])      # Однажды в Голливуде\n",
        "# переименовал для удобства"
      ]
    },
    {
      "cell_type": "markdown",
      "metadata": {
        "id": "9JUikPzroAL8"
      },
      "source": [
        "### Задание 1"
      ]
    },
    {
      "cell_type": "markdown",
      "metadata": {
        "id": "ya8BlSO5nQ9a"
      },
      "source": [
        "Найти угол между векторами-фильмами \"Ярость\" и \"12 лет рабства\". Результатом будет являться косинусная мера, которую можно использовать для определения похожести векторов."
      ]
    },
    {
      "cell_type": "code",
      "execution_count": 6,
      "metadata": {
        "id": "p2gC3FEFnY08"
      },
      "outputs": [
        {
          "data": {
            "text/plain": [
              "65.90515744788931"
            ]
          },
          "execution_count": 6,
          "metadata": {},
          "output_type": "execute_result"
        }
      ],
      "source": [
        "### YOUR CODE HERE\n",
        "cos = np.dot(fury, slavery)/(np.linalg.norm(fury)*np.linalg.norm(slavery))\n",
        "deg = np.rad2deg(np.arccos(cos))\n",
        "deg"
      ]
    },
    {
      "cell_type": "markdown",
      "metadata": {
        "id": "qZxS_tEVTapE"
      },
      "source": [
        "## Уровень 1:"
      ]
    },
    {
      "cell_type": "markdown",
      "metadata": {
        "id": "gUB5Tx31oDZB"
      },
      "source": [
        "### Задание 2"
      ]
    },
    {
      "cell_type": "markdown",
      "metadata": {
        "id": "Jh-pEPj-TcDQ"
      },
      "source": [
        "Вычислить с помощью Python значение первой производной для функции $8x(x+3)^2$ в точке $x=1$\n"
      ]
    },
    {
      "cell_type": "code",
      "execution_count": 13,
      "metadata": {
        "id": "uco5UzhWoHAP"
      },
      "outputs": [
        {
          "data": {
            "text/latex": [
              "$\\displaystyle 192$"
            ],
            "text/plain": [
              "192"
            ]
          },
          "execution_count": 13,
          "metadata": {},
          "output_type": "execute_result"
        }
      ],
      "source": [
        "### YOUR CODE HERE\n",
        "x = sym.Symbol('x') # задаю x\n",
        "f = 8*x*(x+3)**2 # задаю функцию\n",
        "res = sym.diff(f, x) # производная\n",
        "res.subs(x, 1)"
      ]
    },
    {
      "cell_type": "markdown",
      "metadata": {
        "id": "aHk7fBooosb6"
      },
      "source": [
        "### Задание 3\n"
      ]
    },
    {
      "cell_type": "markdown",
      "metadata": {
        "id": "0MFp0SProbiw"
      },
      "source": [
        "Объединить векторы фильмов в матрицу, где каждый вектор является строкой матрицы. Умножьте вектор [1,2,3,4] на полученную матрицу"
      ]
    },
    {
      "cell_type": "code",
      "execution_count": 36,
      "metadata": {
        "id": "1OeJWLrpobqU"
      },
      "outputs": [
        {
          "data": {
            "text/plain": [
              "array([4, 2, 3, 9, 4, 4])"
            ]
          },
          "execution_count": 36,
          "metadata": {},
          "output_type": "execute_result"
        }
      ],
      "source": [
        "### YOUR CODE HERE\n",
        "a = np.array([imitation, fury, slavery, hollywood]) # объединяю векторы в матрицу\n",
        "b = np.array([1,2,3,4]) # задаю вектор\n",
        "c = np.matmul(b, a)\n",
        "c"
      ]
    }
  ],
  "metadata": {
    "colab": {
      "collapsed_sections": [],
      "name": "HW_1_upd",
      "provenance": []
    },
    "kernelspec": {
      "display_name": "Python 3",
      "language": "python",
      "name": "python3"
    },
    "language_info": {
      "codemirror_mode": {
        "name": "ipython",
        "version": 3
      },
      "file_extension": ".py",
      "mimetype": "text/x-python",
      "name": "python",
      "nbconvert_exporter": "python",
      "pygments_lexer": "ipython3",
      "version": "3.10.6"
    },
    "vscode": {
      "interpreter": {
        "hash": "916dbcbb3f70747c44a77c7bcd40155683ae19c65e1c03b4aa3499c5328201f1"
      }
    }
  },
  "nbformat": 4,
  "nbformat_minor": 0
}
